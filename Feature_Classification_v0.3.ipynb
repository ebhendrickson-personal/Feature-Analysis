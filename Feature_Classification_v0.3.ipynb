{
 "cells": [
  {
   "cell_type": "markdown",
   "metadata": {},
   "source": [
    "# Feature Classificaiton\n",
    "Create a system to better analyze each feature by its meta data. This will be a method to seperate 3rd party data by its source or by sales features by its type of analysis.\n",
    "This script will look through all columns from 6 divisions to attempt to get complete list that can be used for all models for all the monthly Models by pulling sample from each division\n",
    "\n",
    "## Version:\n",
    "0.1 - Created initial script based on previous Feature classification Script.    \n",
    "0.2 - Updated S3 bucket location to use the new Obmarketing Zone in Prod. Changed to get features to get as close to column order as possible   \n",
    "0.3 - Used first run for entire 25,000 columns which should provide all classifications. Includes row for type of mean replacement for easy preprocessing"
   ]
  },
  {
   "cell_type": "code",
   "execution_count": null,
   "metadata": {},
   "outputs": [],
   "source": [
    "import sys\n",
    "# !conda install --yes --prefix {sys.prefix}  \"pandas >=1.1.0\" \"s3fs>=0.4.2\" regex boto3"
   ]
  },
  {
   "cell_type": "code",
   "execution_count": null,
   "metadata": {},
   "outputs": [],
   "source": [
    "#Import all standard packages\n",
    "import numpy as np\n",
    "import pandas as pd\n",
    "import matplotlib.pyplot as plt\n",
    "from matplotlib.pyplot import figure\n",
    "import pickle\n",
    "import seaborn as sns\n",
    "import boto3\n",
    "\n",
    "#Import new packages\n",
    "import os\n",
    "import regex as re"
   ]
  },
  {
   "cell_type": "code",
   "execution_count": null,
   "metadata": {},
   "outputs": [],
   "source": [
    "#use this kernal option to enable me to see the value of maultiple statements at once\n",
    "from IPython.core.interactiveshell import InteractiveShell\n",
    "\n",
    "InteractiveShell.ast_node_interactivity = \"all\""
   ]
  },
  {
   "cell_type": "markdown",
   "metadata": {},
   "source": [
    "## Load in the Feature list\n",
    "Grab in a sample from each division"
   ]
  },
  {
   "cell_type": "code",
   "execution_count": null,
   "metadata": {},
   "outputs": [],
   "source": [
    "file_location = \"s3://bluestembrands-bi-published-zone-prod/orchard/marketing/house/retro/catalog_refresh/end_date=20200703/\""
   ]
  },
  {
   "cell_type": "code",
   "execution_count": null,
   "metadata": {},
   "outputs": [],
   "source": [
    "Sample = pd.read_parquet(file_location,\n",
    "                    filters=[('household_key' , '=', '01953405455')],\n",
    "                    engine='pyarrow')"
   ]
  },
  {
   "cell_type": "code",
   "execution_count": null,
   "metadata": {},
   "outputs": [],
   "source": [
    "Sample"
   ]
  },
  {
   "cell_type": "code",
   "execution_count": null,
   "metadata": {},
   "outputs": [],
   "source": [
    "#Get a dataframe of all columns\n",
    "all_columns = pd.DataFrame(  data =  np.unique(np.array( ['individual_key'] + list(Sample.columns) + ['shipped_qty'] )), columns=[\"col_name\"] )\n",
    "all_columns"
   ]
  },
  {
   "cell_type": "code",
   "execution_count": null,
   "metadata": {},
   "outputs": [],
   "source": [
    "len(all_columns)"
   ]
  },
  {
   "cell_type": "markdown",
   "metadata": {},
   "source": [
    "## Load in Id Features and Remove\n",
    "These features will identify who the person is and some details about them. Remove these columsn"
   ]
  },
  {
   "cell_type": "code",
   "execution_count": null,
   "metadata": {},
   "outputs": [],
   "source": [
    "id_features = pd.read_csv(\"s3://bluestembrands-bi-obmarketing-zone-prod/Feature_Classification/id_column_descriptions.csv\")\n",
    "\n",
    "id_features"
   ]
  },
  {
   "cell_type": "code",
   "execution_count": null,
   "metadata": {},
   "outputs": [],
   "source": [
    "#View what ID features are within this dataset\n",
    "all_columns.merge(id_features, how= 'inner', on = ['col_name'] )"
   ]
  },
  {
   "cell_type": "code",
   "execution_count": null,
   "metadata": {},
   "outputs": [],
   "source": [
    "no_id_columns = all_columns.set_index('col_name').drop( labels = set(id_features['col_name']).intersection(all_columns['col_name']) , axis = 0).reset_index()"
   ]
  },
  {
   "cell_type": "markdown",
   "metadata": {},
   "source": [
    "## Load in 3rd party Metadata"
   ]
  },
  {
   "cell_type": "code",
   "execution_count": null,
   "metadata": {},
   "outputs": [],
   "source": [
    "raw_third_party = pd.read_csv(\"s3://bluestembrands-bi-obmarketing-zone-prod/Feature_Classification/3rd_Party_Data.csv\")\n",
    "\n",
    "#Define type as 3rd party\n",
    "raw_third_party['Type'] = \"3rd Party\"\n",
    "#Define Aggregation Type as \"3rd Party Entering\"\n",
    "raw_third_party['Aggregation Type'] = \"3rd Party\""
   ]
  },
  {
   "cell_type": "code",
   "execution_count": null,
   "metadata": {},
   "outputs": [],
   "source": [
    "third_party_meta = raw_third_party.drop(labels = [\"data_type\", \"upper(col_name)\"], axis = 1)\n",
    "\n",
    "# third_party_meta"
   ]
  },
  {
   "cell_type": "code",
   "execution_count": null,
   "metadata": {},
   "outputs": [],
   "source": [
    "#Remove the _rc from the column names which is an add on\n",
    "third_party_meta_add = third_party_meta.copy()\n",
    "\n",
    "third_party_meta_add[\"col_name\"] =  third_party_meta_add[\"col_name\"].apply( lambda x: x+ '_rc' ) \n",
    "\n",
    "# third_party_meta_add"
   ]
  },
  {
   "cell_type": "code",
   "execution_count": null,
   "metadata": {},
   "outputs": [],
   "source": [
    "third_party_meta = pd.concat([third_party_meta, third_party_meta_add])\n",
    "\n",
    "third_party_meta.head()"
   ]
  },
  {
   "cell_type": "markdown",
   "metadata": {},
   "source": [
    "## Determine type of internal data\n",
    "Will be all features not in 3rd party"
   ]
  },
  {
   "cell_type": "markdown",
   "metadata": {},
   "source": [
    "### Load in features"
   ]
  },
  {
   "cell_type": "code",
   "execution_count": null,
   "metadata": {},
   "outputs": [],
   "source": [
    "df = no_id_columns.merge(third_party_meta, how = \"left\", on = \"col_name\" )\n",
    "\n",
    "# df.head()"
   ]
  },
  {
   "cell_type": "code",
   "execution_count": null,
   "metadata": {},
   "outputs": [],
   "source": [
    "#Define internal as anything that is missing. Define as Type Internal\n",
    "internal_features = df[df[\"Type\"].isna() ].copy()\n",
    "\n",
    "internal_features['Type'] = \"Internal\"\n",
    "\n",
    "internal_features"
   ]
  },
  {
   "cell_type": "code",
   "execution_count": null,
   "metadata": {},
   "outputs": [],
   "source": [
    "len(internal_features)"
   ]
  },
  {
   "cell_type": "markdown",
   "metadata": {},
   "source": [
    "### External Data Analysis\n",
    "Define all external data as all of those who were part of 3rd party data above"
   ]
  },
  {
   "cell_type": "code",
   "execution_count": null,
   "metadata": {},
   "outputs": [],
   "source": [
    "#Define as a copy\n",
    "external_features = df[df[\"Type\"].notna() ].copy()\n",
    "\n",
    "external_features"
   ]
  },
  {
   "cell_type": "code",
   "execution_count": null,
   "metadata": {},
   "outputs": [],
   "source": [
    "external_features['description'] = external_features['description'].apply( lambda x: x.title() )\n",
    "\n",
    "#Define the replacement type of mean for all 3rd party data\n",
    "external_features['replacement_type'] = 'mean'\n",
    "\n",
    "external_features"
   ]
  },
  {
   "cell_type": "code",
   "execution_count": null,
   "metadata": {},
   "outputs": [],
   "source": []
  },
  {
   "cell_type": "code",
   "execution_count": null,
   "metadata": {},
   "outputs": [],
   "source": [
    "#View the source\n",
    "external_features.groupby(\"Source\").count().sort_values('col_name', ascending= False)"
   ]
  },
  {
   "cell_type": "markdown",
   "metadata": {},
   "source": [
    "### Manual Data Internal\n",
    "Data without a good systematic name"
   ]
  },
  {
   "cell_type": "code",
   "execution_count": null,
   "metadata": {},
   "outputs": [],
   "source": [
    "#Load in the manually described internal features from customer aggs\n",
    "customer_aggs = pd.read_csv(\"s3://bluestembrands-bi-obmarketing-zone-prod/Feature_Classification/manual_internal_features.csv\")\n",
    "\n",
    "# customer_aggs"
   ]
  },
  {
   "cell_type": "code",
   "execution_count": null,
   "metadata": {},
   "outputs": [],
   "source": [
    "#Get Everything title case\n",
    "customer_aggs['description'] = customer_aggs['description'].apply( lambda x: x.title() )\n",
    "\n",
    "customer_aggs"
   ]
  },
  {
   "cell_type": "code",
   "execution_count": null,
   "metadata": {},
   "outputs": [],
   "source": [
    "#Drop the manual\n",
    "automatic_generated = internal_features.set_index('col_name').drop( labels = set(internal_features['col_name']).intersection(customer_aggs['col_name']) , axis = 0).reset_index()\n",
    "\n",
    "len(automatic_generated)\n",
    "automatic_generated"
   ]
  },
  {
   "cell_type": "markdown",
   "metadata": {},
   "source": [
    "## Import Dictionary\n",
    "Create manual dictionaries and load others"
   ]
  },
  {
   "cell_type": "code",
   "execution_count": null,
   "metadata": {},
   "outputs": [],
   "source": [
    "division_dict = { \"apl\": \"Appleseeds\", \n",
    "                 \"bla women\": \"Blair Women\", \n",
    "                 \"bla men\": \"Blair Men\",\n",
    "                 \"hab women\": \"Haband Women\", \n",
    "                 \"hab men\": \"Haband Men\",\n",
    "                \"drd\": \"Drapers & Damons\"}"
   ]
  },
  {
   "cell_type": "code",
   "execution_count": null,
   "metadata": {},
   "outputs": [],
   "source": [
    "recency_dict = {\"0 3\": \"0-3\"\n",
    "                ,\"3 6\": \"3-6\"\n",
    "                ,\"0 6\": \"0-6\" \n",
    "                ,\"6 12\": \"6-12\" \n",
    "                ,\"12 24\": \"12-24\" \n",
    "                ,\"24 36\": \"24-36\"\n",
    "               ,\"36 48\": \"36-48\"\n",
    "               ,\"0 48\": \"0-48\"}"
   ]
  },
  {
   "cell_type": "markdown",
   "metadata": {},
   "source": [
    "#### Category Dictionary"
   ]
  },
  {
   "cell_type": "code",
   "execution_count": null,
   "metadata": {},
   "outputs": [],
   "source": [
    "#Load in category as dataframe\n",
    "category_df = pd.read_csv(\"s3://bluestembrands-bi-obmarketing-zone-prod/Feature_Classification/Category_Code_Lookup.csv\")\n",
    "\n",
    "#Drop the Null or NaN in product_code\n",
    "category_df.dropna(subset = ['product_code'], inplace = True )\n",
    "\n",
    "#Lowercase all product codes\n",
    "category_df['product_code'] = category_df['product_code'].apply( lambda x: x.lower() )\n",
    "\n",
    "#Define Category Dictionary\n",
    "category_dict = dict(zip(category_df.product_code, category_df.product_category))\n",
    "\n",
    "# category_dict"
   ]
  },
  {
   "cell_type": "markdown",
   "metadata": {},
   "source": [
    "#### Subcategory Dictionary"
   ]
  },
  {
   "cell_type": "code",
   "execution_count": null,
   "metadata": {},
   "outputs": [],
   "source": [
    "#Load in category as dataframe\n",
    "subcategory_df = pd.read_csv(\"s3://bluestembrands-bi-obmarketing-zone-prod/Feature_Classification/Subcategory_rollup.csv\")\n",
    "\n",
    "#Drop the Null or NaN in product_code\n",
    "subcategory_df.dropna(subset = ['product_subcategory_number'], inplace = True )\n",
    "\n",
    "# subcategory_df"
   ]
  },
  {
   "cell_type": "code",
   "execution_count": null,
   "metadata": {},
   "outputs": [],
   "source": [
    "#Determine the full description by adding ctegory to subcategory \n",
    "subcategory_df['full_description'] = subcategory_df['product_subcategory_description'] + ' (' + subcategory_df['product_category'] +')'\n",
    "\n",
    "#Add in sub in front of all numbers for an easier lookup\n",
    "subcategory_df['product_subcategory_number'] = 'sub ' + subcategory_df['product_subcategory_number'].apply( lambda x: str(x)  )\n",
    "\n",
    "#Define Dictionary\n",
    "subcategory_dict = dict(zip(subcategory_df.product_subcategory_number, subcategory_df.full_description))\n",
    "\n",
    "# subcategory_dict"
   ]
  },
  {
   "cell_type": "markdown",
   "metadata": {},
   "source": [
    "### Day Columns\n",
    "Determine description for Divisions. This will be all columsn that contain the word day"
   ]
  },
  {
   "cell_type": "code",
   "execution_count": null,
   "metadata": {},
   "outputs": [],
   "source": [
    "#Define Day From columns that start with Days\n",
    "day_from_features = automatic_generated[automatic_generated['col_name'].str.contains(\"days_*\", regex = True)].copy()\n",
    "\n",
    "# day_from_features"
   ]
  },
  {
   "cell_type": "code",
   "execution_count": null,
   "metadata": {},
   "outputs": [],
   "source": [
    "#Define the Source as customer transactions\n",
    "day_from_features['Source'] = \"Customer Transactions\"\n",
    "#Define aggregation type as \"Date Difference\"\n",
    "day_from_features['Aggregation Type'] = \"Date Difference\"\n",
    "\n",
    "#Define The replacement type as max\n",
    "day_from_features['replacement_type'] = 'max'\n",
    "\n",
    "# day_from_features"
   ]
  },
  {
   "cell_type": "markdown",
   "metadata": {},
   "source": [
    "#### Description Determination"
   ]
  },
  {
   "cell_type": "code",
   "execution_count": null,
   "metadata": {},
   "outputs": [],
   "source": [
    "#Define the description as col_name without _ or make everything be from\n",
    "day_from_features['description'] = day_from_features['col_name'].apply( lambda x: re.sub( \"since\", \"from\", re.sub( \"_\", \" \",  x ))  )\n",
    "\n",
    "# day_from_features"
   ]
  },
  {
   "cell_type": "code",
   "execution_count": null,
   "metadata": {},
   "outputs": [],
   "source": [
    "#Replace abbreviations with dictionary values and title case everything\n",
    "day_from_features['description'] = day_from_features['description'].replace(division_dict, regex=True).apply(lambda x: x.title())\n",
    "\n",
    "day_from_features"
   ]
  },
  {
   "cell_type": "code",
   "execution_count": null,
   "metadata": {},
   "outputs": [],
   "source": [
    "removed_days = automatic_generated.set_index('col_name').drop( labels = day_from_features['col_name'].tolist(), axis = 0).reset_index()\n",
    "\n",
    "len(removed_days)\n",
    "removed_days.head()"
   ]
  },
  {
   "cell_type": "markdown",
   "metadata": {},
   "source": [
    "### Define Subcategory Features"
   ]
  },
  {
   "cell_type": "code",
   "execution_count": null,
   "metadata": {},
   "outputs": [],
   "source": [
    "#Define subcategory by everything that starts with Sub\n",
    "subcategory_features = removed_days[removed_days['col_name'].str.contains(\"sub_*\", regex = True)].copy()\n",
    "\n",
    "# subcategory_features"
   ]
  },
  {
   "cell_type": "code",
   "execution_count": null,
   "metadata": {},
   "outputs": [],
   "source": [
    "#Define the Source\n",
    "subcategory_features['Source'] = \"Customer Transactions\"\n",
    "\n",
    "#Define the Aggregation Type\n",
    "subcategory_features['Aggregation Type'] = \"Subcategory Level Sum\"\n",
    "\n",
    "#Define The replacement type as zero\n",
    "subcategory_features['replacement_type'] = 'zero'"
   ]
  },
  {
   "cell_type": "markdown",
   "metadata": {},
   "source": [
    "#### Description Determination"
   ]
  },
  {
   "cell_type": "code",
   "execution_count": null,
   "metadata": {},
   "outputs": [],
   "source": [
    "#Replace replace \"_\" with \" \"\n",
    "subcategory_features['description'] = subcategory_features['col_name'].apply( lambda x: re.sub( \"_\", \" \",  x ))  \n",
    "\n",
    "# subcategory_features"
   ]
  },
  {
   "cell_type": "code",
   "execution_count": null,
   "metadata": {},
   "outputs": [],
   "source": [
    "#Put a dash between Months and replace ending M with Months using dictionary\n",
    "subcategory_features['description'] = subcategory_features['description'].apply(lambda x: re.sub( \"m$\", \" Months\",x )).replace(recency_dict, regex=True) \n",
    "\n",
    "# subcategory_features"
   ]
  },
  {
   "cell_type": "code",
   "execution_count": null,
   "metadata": {},
   "outputs": [],
   "source": [
    "#replace all divisions with division names\n",
    "subcategory_features['description'] = subcategory_features['description'].replace(division_dict, regex=True)\n",
    "\n",
    "# subcategory_features"
   ]
  },
  {
   "cell_type": "code",
   "execution_count": null,
   "metadata": {},
   "outputs": [],
   "source": [
    "#replace all sub values with full Names\n",
    "subcategory_features['description'] = subcategory_features['description'].replace(subcategory_dict, regex=True).apply( lambda x: x.title() )\n",
    "\n",
    "subcategory_features"
   ]
  },
  {
   "cell_type": "code",
   "execution_count": null,
   "metadata": {},
   "outputs": [],
   "source": [
    "#Remove subcateogyr values from the removed days set\n",
    "remove_subcategory = removed_days.set_index('col_name').drop( labels = subcategory_features['col_name'].tolist(), axis = 0).reset_index()\n",
    "\n",
    "len(remove_subcategory)\n",
    "remove_subcategory"
   ]
  },
  {
   "cell_type": "markdown",
   "metadata": {},
   "source": [
    "### Division Variables "
   ]
  },
  {
   "cell_type": "code",
   "execution_count": null,
   "metadata": {},
   "outputs": [],
   "source": [
    "division_features = remove_subcategory[remove_subcategory['col_name'].str.contains(\"^(apl)|^(bla)|^(hab)|^(drd)|^(division)_*\", regex = True)].copy()\n",
    "\n",
    "# division_features"
   ]
  },
  {
   "cell_type": "code",
   "execution_count": null,
   "metadata": {},
   "outputs": [],
   "source": [
    "#Define the Source\n",
    "division_features['Source'] = \"Customer Transactions\"\n",
    "\n",
    "#Define the Aggregation Type\n",
    "division_features['Aggregation Type'] = \"Division Level Sum\"\n",
    "\n",
    "#Define The replacement type as zero\n",
    "division_features['replacement_type'] = 'zero'"
   ]
  },
  {
   "cell_type": "markdown",
   "metadata": {},
   "source": [
    "#### Description Determination"
   ]
  },
  {
   "cell_type": "code",
   "execution_count": null,
   "metadata": {},
   "outputs": [],
   "source": [
    "#Replace replace \"_\" with \" \"\n",
    "division_features['description'] = division_features['col_name'].apply( lambda x: re.sub( \"_\", \" \",  x ))  \n",
    "\n",
    "# division_features"
   ]
  },
  {
   "cell_type": "code",
   "execution_count": null,
   "metadata": {},
   "outputs": [],
   "source": [
    "#Put a dash between Months and replace ending M with Months using dictionary\n",
    "division_features['description'] = division_features['description'].apply(lambda x: re.sub( \"m$\", \" Months\",x )).replace(recency_dict, regex=True) \n",
    "\n",
    "# division_features"
   ]
  },
  {
   "cell_type": "code",
   "execution_count": null,
   "metadata": {},
   "outputs": [],
   "source": [
    "#replace all divisions with division names and title case\n",
    "division_features['description'] = division_features['description'].replace(division_dict, regex=True).apply( lambda x: x.title() )\n",
    "\n",
    "division_features"
   ]
  },
  {
   "cell_type": "code",
   "execution_count": null,
   "metadata": {},
   "outputs": [],
   "source": [
    "remove_division = remove_subcategory.set_index('col_name').drop( labels = division_features['col_name'].tolist(), axis = 0).reset_index()\n",
    "\n",
    "remove_division"
   ]
  },
  {
   "cell_type": "markdown",
   "metadata": {},
   "source": [
    "### Category Variables "
   ]
  },
  {
   "cell_type": "code",
   "execution_count": null,
   "metadata": {},
   "outputs": [],
   "source": [
    "#Define category by anything that starts with three values that isn't apl, bla, hab, drd which can be first value\n",
    "category_features = remove_division[remove_division['col_name'].str.contains(\"^[\\\\w]{3}_\", regex = True)].copy()\n",
    "\n",
    "category_features"
   ]
  },
  {
   "cell_type": "code",
   "execution_count": null,
   "metadata": {},
   "outputs": [],
   "source": [
    "#Define the Source\n",
    "category_features['Source'] = \"Customer Transactions\"\n",
    "\n",
    "#Define the Aggregation Type\n",
    "category_features['Aggregation Type'] = \"Category Level Sum\"\n",
    "\n",
    "#Define The replacement type as zero\n",
    "category_features['replacement_type'] = 'zero'"
   ]
  },
  {
   "cell_type": "markdown",
   "metadata": {},
   "source": [
    "#### Description Determination"
   ]
  },
  {
   "cell_type": "code",
   "execution_count": null,
   "metadata": {},
   "outputs": [],
   "source": [
    "#Replace replace \"_\" with \" \"\n",
    "category_features['description'] = category_features['col_name'].apply( lambda x: re.sub( \"_\", \" \",  x ))  \n",
    "\n",
    "# category_features"
   ]
  },
  {
   "cell_type": "code",
   "execution_count": null,
   "metadata": {},
   "outputs": [],
   "source": [
    "#Put a dash between Months and replace ending M with Months using dictionary\n",
    "category_features['description'] = category_features['description'].apply(lambda x: re.sub( \"m$\", \" Months\",x )).replace(recency_dict, regex=True) \n",
    "\n",
    "# category_features"
   ]
  },
  {
   "cell_type": "code",
   "execution_count": null,
   "metadata": {},
   "outputs": [],
   "source": [
    "#replace all divisions with division names\n",
    "category_features['description'] = category_features['description'].replace(division_dict, regex=True)\n",
    "\n",
    "# category_features"
   ]
  },
  {
   "cell_type": "code",
   "execution_count": null,
   "metadata": {},
   "outputs": [],
   "source": [
    "#Replace Category with Dictionary values from category\n",
    "category_features['description'] = category_features['description'].replace(category_dict, regex=True).apply( lambda x: x.title() )\n",
    "\n",
    "category_features"
   ]
  },
  {
   "cell_type": "code",
   "execution_count": null,
   "metadata": {},
   "outputs": [],
   "source": [
    "remove_category = remove_division.set_index('col_name').drop( labels = category_features['col_name'].tolist(), axis = 0).reset_index()\n",
    "\n",
    "len(remove_category)\n",
    "remove_category"
   ]
  },
  {
   "cell_type": "markdown",
   "metadata": {},
   "source": [
    "### Source Code\n",
    "Source code count is a division variable but done differently"
   ]
  },
  {
   "cell_type": "code",
   "execution_count": null,
   "metadata": {},
   "outputs": [],
   "source": [
    "#Define category by anything that starts with three values that isn't apl, bla, hab, drd which can be first value\n",
    "source_code_features = remove_category[remove_category['col_name'].str.contains(\"^(source_code)_*\", regex = True)].copy()\n",
    "\n",
    "# source_code_features"
   ]
  },
  {
   "cell_type": "code",
   "execution_count": null,
   "metadata": {},
   "outputs": [],
   "source": [
    "#Define the Source\n",
    "source_code_features['Source'] = \"Promos Table\"\n",
    "\n",
    "#Define the Aggregation Type\n",
    "source_code_features['Aggregation Type'] = \"Promo Level Sum\"\n",
    "\n",
    "#Define The replacement type as zero\n",
    "source_code_features['replacement_type'] = 'zero'"
   ]
  },
  {
   "cell_type": "markdown",
   "metadata": {},
   "source": [
    "#### Description Determination"
   ]
  },
  {
   "cell_type": "code",
   "execution_count": null,
   "metadata": {},
   "outputs": [],
   "source": [
    "#Replace replace \"_\" with \" \"\n",
    "source_code_features['description'] = source_code_features['col_name'].apply( lambda x: re.sub( \"_\", \" \",  x ))  \n",
    "\n",
    "# source_code_features"
   ]
  },
  {
   "cell_type": "code",
   "execution_count": null,
   "metadata": {},
   "outputs": [],
   "source": [
    "#Put a dash between Months and replace ending M with Months using dictionary\n",
    "source_code_features['description'] = source_code_features['description'].apply(lambda x: re.sub( \"m$\", \" Months\",x )).replace(recency_dict, regex=True) \n",
    "\n",
    "# source_code_features"
   ]
  },
  {
   "cell_type": "code",
   "execution_count": null,
   "metadata": {
    "scrolled": true
   },
   "outputs": [],
   "source": [
    "#replace all divisions with division names\n",
    "source_code_features['description'] = source_code_features['description'].replace(division_dict, regex=True).apply( lambda x: x.title() )\n",
    "\n",
    "source_code_features"
   ]
  },
  {
   "cell_type": "code",
   "execution_count": null,
   "metadata": {},
   "outputs": [],
   "source": [
    "remove_source_code = remove_category.set_index('col_name').drop( labels = source_code_features['col_name'].tolist(), axis = 0).reset_index()\n",
    "\n",
    "len(remove_source_code)\n",
    "remove_source_code"
   ]
  },
  {
   "cell_type": "markdown",
   "metadata": {},
   "source": [
    "### Customer Level Summary"
   ]
  },
  {
   "cell_type": "code",
   "execution_count": null,
   "metadata": {},
   "outputs": [],
   "source": [
    "customer_summary_features = remove_source_code.copy()"
   ]
  },
  {
   "cell_type": "code",
   "execution_count": null,
   "metadata": {},
   "outputs": [],
   "source": [
    "#Define the Source\n",
    "customer_summary_features['Source'] = \"Customer Transactions\"\n",
    "\n",
    "#Define the Aggregation Type\n",
    "customer_summary_features['Aggregation Type'] = \"Category Level Sum\"\n",
    "\n",
    "#Add in replacement type\n",
    "customer_summary_features['replacement_type'] = 'zero'"
   ]
  },
  {
   "cell_type": "markdown",
   "metadata": {},
   "source": [
    "#### Description Determination"
   ]
  },
  {
   "cell_type": "code",
   "execution_count": null,
   "metadata": {},
   "outputs": [],
   "source": [
    "#Replace replace \"_\" with \" \"\n",
    "customer_summary_features['description'] = customer_summary_features['col_name'].apply( lambda x: re.sub( \"_\", \" \",  x ).title() )  \n",
    "\n",
    "customer_summary_features"
   ]
  },
  {
   "cell_type": "markdown",
   "metadata": {},
   "source": [
    "## Join all Feature Types \n",
    "Will get an entire metadata analsis set"
   ]
  },
  {
   "cell_type": "code",
   "execution_count": null,
   "metadata": {},
   "outputs": [],
   "source": [
    "all_features_meta = pd.concat([external_features, customer_aggs, day_from_features, subcategory_features, division_features, category_features, source_code_features, customer_summary_features   ] )\n",
    "\n",
    "all_features_meta.head()"
   ]
  },
  {
   "cell_type": "code",
   "execution_count": null,
   "metadata": {},
   "outputs": [],
   "source": [
    "### Create dataframe of sort order for aggregation types \n",
    "aggregation_sort_order = {\n",
    "    'Customer Level Sum': 1,\n",
    "    'Date Difference': 2,\n",
    "    'Promo Level Sum':3,\n",
    "    'Division Level Sum':4,\n",
    "    'Category Level Sum': 5,\n",
    "    'Subcategory Level Sum':6,\n",
    "    '3rd Party':7 }\n",
    "\n",
    "aggregation_sort_order"
   ]
  },
  {
   "cell_type": "code",
   "execution_count": null,
   "metadata": {},
   "outputs": [],
   "source": [
    "#Add in these sort orders\n",
    "all_features_meta['group_sort_order'] = all_features_meta['Aggregation Type'].apply( lambda x:aggregation_sort_order[x]  )\n",
    "\n",
    "#Sort by the sort sort, source and column names\n",
    "all_features_meta.sort_values( ['group_sort_order', 'Source', 'col_name' ], inplace = True  )\n",
    "\n",
    "## Create a column called sort order whihc is just enumeriation of this sorted order via a new index\n",
    "all_features_meta.reset_index( drop = True, inplace = True )\n",
    "all_features_meta['sort_order'] = all_features_meta.index + 1\n",
    "\n",
    "all_features_meta"
   ]
  },
  {
   "cell_type": "code",
   "execution_count": null,
   "metadata": {},
   "outputs": [],
   "source": [
    "all_features_meta[[ 'Aggregation Type' ]].drop_duplicates().reset_index(drop = True)"
   ]
  },
  {
   "cell_type": "code",
   "execution_count": null,
   "metadata": {},
   "outputs": [],
   "source": [
    "#Check and see if there are any missing columns\n",
    "all_features_meta.isna().any()"
   ]
  },
  {
   "cell_type": "code",
   "execution_count": null,
   "metadata": {},
   "outputs": [],
   "source": [
    "#Left Join to ensure that we have\n",
    "test = pd.DataFrame(no_id_columns, columns= [\"col_name\"] ).merge(all_features_meta, how = \"left\", on = \"col_name\" )\n",
    "\n",
    "#Ensure that everything is working correctly\n",
    "test.head()"
   ]
  },
  {
   "cell_type": "code",
   "execution_count": null,
   "metadata": {},
   "outputs": [],
   "source": [
    "#Ensure there are no missing\n",
    "test[test['description'].isna()]"
   ]
  },
  {
   "cell_type": "code",
   "execution_count": null,
   "metadata": {},
   "outputs": [],
   "source": [
    "#Write out the features. Note that the index will be the approximate order based on ingestion for the test set since will be original order\n",
    "# all_features_meta.to_csv(\"s3://bluestembrands-bi-obmarketing-zone-prod/Feature_Classification/all_features_metadata.csv\", index = False)"
   ]
  },
  {
   "cell_type": "code",
   "execution_count": null,
   "metadata": {},
   "outputs": [],
   "source": []
  }
 ],
 "metadata": {
  "instance_type": "ml.t3.medium",
  "kernelspec": {
   "display_name": "Python 3 (Data Science)",
   "language": "python",
   "name": "python3__SAGEMAKER_INTERNAL__arn:aws:sagemaker:us-east-1:081325390199:image/datascience-1.0"
  },
  "language_info": {
   "codemirror_mode": {
    "name": "ipython",
    "version": 3
   },
   "file_extension": ".py",
   "mimetype": "text/x-python",
   "name": "python",
   "nbconvert_exporter": "python",
   "pygments_lexer": "ipython3",
   "version": "3.7.10"
  }
 },
 "nbformat": 4,
 "nbformat_minor": 5
}
